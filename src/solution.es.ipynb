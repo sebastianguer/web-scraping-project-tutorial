{
    "cells": [
        {
            "cell_type": "markdown",
            "metadata": {},
            "source": [
                "# Solución de raspado web"
            ]
        },
        {
            "cell_type": "markdown",
            "metadata": {},
            "source": [
                "## Paso 1: Instalar dependencias"
            ]
        },
        {
            "cell_type": "code",
            "execution_count": 1,
            "metadata": {},
            "outputs": [
                {
                    "name": "stdout",
                    "output_type": "stream",
                    "text": [
                        "Defaulting to user installation because normal site-packages is not writeable\n",
                        "Requirement already satisfied: pandas in /home/vscode/.local/lib/python3.11/site-packages (1.4.2)\n",
                        "Requirement already satisfied: requests in /home/vscode/.local/lib/python3.11/site-packages (2.27.1)\n",
                        "Requirement already satisfied: python-dateutil>=2.8.1 in /home/vscode/.local/lib/python3.11/site-packages (from pandas) (2.9.0.post0)\n",
                        "Requirement already satisfied: pytz>=2020.1 in /home/vscode/.local/lib/python3.11/site-packages (from pandas) (2024.1)\n",
                        "Requirement already satisfied: numpy>=1.21.0 in /home/vscode/.local/lib/python3.11/site-packages (from pandas) (1.26.4)\n",
                        "Requirement already satisfied: urllib3<1.27,>=1.21.1 in /home/vscode/.local/lib/python3.11/site-packages (from requests) (1.26.19)\n",
                        "Requirement already satisfied: certifi>=2017.4.17 in /home/vscode/.local/lib/python3.11/site-packages (from requests) (2024.6.2)\n",
                        "Requirement already satisfied: charset-normalizer~=2.0.0 in /home/vscode/.local/lib/python3.11/site-packages (from requests) (2.0.12)\n",
                        "Requirement already satisfied: idna<4,>=2.5 in /home/vscode/.local/lib/python3.11/site-packages (from requests) (3.7)\n",
                        "Requirement already satisfied: six>=1.5 in /home/vscode/.local/lib/python3.11/site-packages (from python-dateutil>=2.8.1->pandas) (1.16.0)\n",
                        "\n",
                        "\u001b[1m[\u001b[0m\u001b[34;49mnotice\u001b[0m\u001b[1;39;49m]\u001b[0m\u001b[39;49m A new release of pip is available: \u001b[0m\u001b[31;49m23.1.2\u001b[0m\u001b[39;49m -> \u001b[0m\u001b[32;49m24.1\u001b[0m\n",
                        "\u001b[1m[\u001b[0m\u001b[34;49mnotice\u001b[0m\u001b[1;39;49m]\u001b[0m\u001b[39;49m To update, run: \u001b[0m\u001b[32;49mpip install --upgrade pip\u001b[0m\n",
                        "Note: you may need to restart the kernel to use updated packages.\n"
                    ]
                }
            ],
            "source": [
                "pip install pandas requests"
            ]
        },
        {
            "cell_type": "markdown",
            "metadata": {},
            "source": [
                "## Paso 2: Descargar HTML"
            ]
        },
        {
            "cell_type": "code",
            "execution_count": 1,
            "metadata": {},
            "outputs": [
                {
                    "data": {
                        "text/plain": [
                            "'<!DOCTYPE html>\\n  <html lang=\"en-us\"><head>\\n  <meta http-equiv=\"content-type\" content=\"text/html; charset=UTF-8\">\\n      <meta charset=\"utf-8\">\\n      <title>Yahoo</title>\\n      <meta name=\"viewport\" content=\"width=device-width,initial-scale=1,minimal-ui\">\\n      <meta http-equiv=\"X-UA-Compatible\" content=\"IE=edge,chrome=1\">\\n      <style>\\n  html {\\n      height: 100%;\\n  }\\n  body {\\n      background: #fafafc url(https://s.yimg.com/nn/img/sad-panda-201402200631.png) 50% 50%;\\n      background-size: cover;\\n      height: 100%;\\n      text-align: center;\\n      font: 300 18px \"helvetica neue\", helvetica, verdana, tahoma, arial, sans-serif;\\n  }\\n  table {\\n      height: 100%;\\n      width: 100%;\\n      table-layout: fixed;\\n      border-collapse: collapse;\\n      border-spacing: 0;\\n      border: none;\\n  }\\n  h1 {\\n      font-size: 42px;\\n      font-weight: 400;\\n      color: #400090;\\n  }\\n  p {\\n      color: #1A1A1A;\\n  }\\n  #message-1 {\\n      font-weight: bold;\\n      margin: 0;\\n  }\\n  #message-2 {\\n      display: inline-block;\\n      *display: inline;\\n      zoom: 1;\\n      max-width: 17em;\\n      _width: 17em;\\n  }\\n      </style>\\n  <script>\\n    document.write(\\'<img src=\"//geo.yahoo.com/b?s=1197757129&t=\\'+new Date().getTime()+\\'&src=aws&err_url=\\'+encodeURIComponent(document.URL)+\\'&err=%<pssc>&test=\\'+encodeURIComponent(\\'%<{Bucket}cqh[:200]>\\')+\\'\" width=\"0px\" height=\"0px\"/>\\');var beacon = new Image();beacon.src=\"//bcn.fp.yahoo.com/p?s=1197757129&t=\"+new Date().getTime()+\"&src=aws&err_url=\"+encodeURIComponent(document.URL)+\"&err=%<pssc>&test=\"+encodeURIComponent(\\'%<{Bucket}cqh[:200]>\\');\\n  </script>\\n  </head>\\n  <body>\\n  <!-- status code : 404 -->\\n  <!-- Not Found on Server -->\\n  <table>\\n  <tbody><tr>\\n      <td>\\n      <img src=\"https://s.yimg.com/rz/p/yahoo_frontpage_en-US_s_f_p_205x58_frontpage.png\" alt=\"Yahoo Logo\">\\n      <h1 style=\"margin-top:20px;\">Will be right back...</h1>\\n      <p id=\"message-1\">Thank you for your patience.</p>\\n      <p id=\"message-2\">Our engineers are working quickly to resolve the issue.</p>\\n      </td>\\n  </tr>\\n  </tbody></table>\\n  </body></html>'"
                        ]
                    },
                    "execution_count": 1,
                    "metadata": {},
                    "output_type": "execute_result"
                }
            ],
            "source": [
                "import requests\n",
                "import time\n",
                "\n",
                "#url = \"https://www.macrotrends.net/stocks/charts/TSLA/tesla/revenue\"\n",
                "url = \"https://finance.yahoo.com/quote/CL%3DF/history\"\n",
                "html_data = requests.get(url, time.sleep(10)).text\n",
                "\n",
                "# If no information is extracted, then connect as anonymous\n",
                "if \"403 Forbidden\" in html_data:\n",
                "    headers = {\"User-Agent\": \"Mozilla/5.0 (Macintosh; Intel Mac OS X 10_11_5) AppleWebKit/537.36 (KHTML, like Gecko) Chrome/50.0.2661.102 Safari/537.36\"}\n",
                "    request = requests.get(url, headers = headers)\n",
                "    time.sleep(10)\n",
                "    html_data = request.text\n",
                "\n",
                "html_data"
            ]
        },
        {
            "cell_type": "markdown",
            "metadata": {},
            "source": [
                "## Paso 3: Transformar el HTML"
            ]
        },
        {
            "cell_type": "code",
            "execution_count": 2,
            "metadata": {},
            "outputs": [
                {
                    "data": {
                        "text/plain": [
                            "<!DOCTYPE html>\n",
                            "\n",
                            "<html lang=\"en-us\"><head>\n",
                            "<meta content=\"text/html; charset=utf-8\" http-equiv=\"content-type\"/>\n",
                            "<meta charset=\"utf-8\"/>\n",
                            "<title>Yahoo</title>\n",
                            "<meta content=\"width=device-width,initial-scale=1,minimal-ui\" name=\"viewport\"/>\n",
                            "<meta content=\"IE=edge,chrome=1\" http-equiv=\"X-UA-Compatible\"/>\n",
                            "<style>\n",
                            "  html {\n",
                            "      height: 100%;\n",
                            "  }\n",
                            "  body {\n",
                            "      background: #fafafc url(https://s.yimg.com/nn/img/sad-panda-201402200631.png) 50% 50%;\n",
                            "      background-size: cover;\n",
                            "      height: 100%;\n",
                            "      text-align: center;\n",
                            "      font: 300 18px \"helvetica neue\", helvetica, verdana, tahoma, arial, sans-serif;\n",
                            "  }\n",
                            "  table {\n",
                            "      height: 100%;\n",
                            "      width: 100%;\n",
                            "      table-layout: fixed;\n",
                            "      border-collapse: collapse;\n",
                            "      border-spacing: 0;\n",
                            "      border: none;\n",
                            "  }\n",
                            "  h1 {\n",
                            "      font-size: 42px;\n",
                            "      font-weight: 400;\n",
                            "      color: #400090;\n",
                            "  }\n",
                            "  p {\n",
                            "      color: #1A1A1A;\n",
                            "  }\n",
                            "  #message-1 {\n",
                            "      font-weight: bold;\n",
                            "      margin: 0;\n",
                            "  }\n",
                            "  #message-2 {\n",
                            "      display: inline-block;\n",
                            "      *display: inline;\n",
                            "      zoom: 1;\n",
                            "      max-width: 17em;\n",
                            "      _width: 17em;\n",
                            "  }\n",
                            "      </style>\n",
                            "<script>\n",
                            "    document.write('<img src=\"//geo.yahoo.com/b?s=1197757129&t='+new Date().getTime()+'&src=aws&err_url='+encodeURIComponent(document.URL)+'&err=%<pssc>&test='+encodeURIComponent('%<{Bucket}cqh[:200]>')+'\" width=\"0px\" height=\"0px\"/>');var beacon = new Image();beacon.src=\"//bcn.fp.yahoo.com/p?s=1197757129&t=\"+new Date().getTime()+\"&src=aws&err_url=\"+encodeURIComponent(document.URL)+\"&err=%<pssc>&test=\"+encodeURIComponent('%<{Bucket}cqh[:200]>');\n",
                            "  </script>\n",
                            "</head>\n",
                            "<body>\n",
                            "<!-- status code : 404 -->\n",
                            "<!-- Not Found on Server -->\n",
                            "<table>\n",
                            "<tbody><tr>\n",
                            "<td>\n",
                            "<img alt=\"Yahoo Logo\" src=\"https://s.yimg.com/rz/p/yahoo_frontpage_en-US_s_f_p_205x58_frontpage.png\"/>\n",
                            "<h1 style=\"margin-top:20px;\">Will be right back...</h1>\n",
                            "<p id=\"message-1\">Thank you for your patience.</p>\n",
                            "<p id=\"message-2\">Our engineers are working quickly to resolve the issue.</p>\n",
                            "</td>\n",
                            "</tr>\n",
                            "</tbody></table>\n",
                            "</body></html>"
                        ]
                    },
                    "execution_count": 2,
                    "metadata": {},
                    "output_type": "execute_result"
                }
            ],
            "source": [
                "from bs4 import BeautifulSoup\n",
                "\n",
                "soup = BeautifulSoup(html_data,\"html.parser\")\n",
                "soup"
            ]
        },
        {
            "cell_type": "code",
            "execution_count": 3,
            "metadata": {},
            "outputs": [
                {
                    "data": {
                        "text/plain": [
                            "[<table>\n",
                            " <tbody><tr>\n",
                            " <td>\n",
                            " <img alt=\"Yahoo Logo\" src=\"https://s.yimg.com/rz/p/yahoo_frontpage_en-US_s_f_p_205x58_frontpage.png\"/>\n",
                            " <h1 style=\"margin-top:20px;\">Will be right back...</h1>\n",
                            " <p id=\"message-1\">Thank you for your patience.</p>\n",
                            " <p id=\"message-2\">Our engineers are working quickly to resolve the issue.</p>\n",
                            " </td>\n",
                            " </tr>\n",
                            " </tbody></table>]"
                        ]
                    },
                    "execution_count": 3,
                    "metadata": {},
                    "output_type": "execute_result"
                }
            ],
            "source": [
                "# Find all tables\n",
                "tables = soup.find_all(\"table\")\n",
                "tables"
            ]
        },
        {
            "cell_type": "code",
            "execution_count": 12,
            "metadata": {},
            "outputs": [
                {
                    "ename": "NameError",
                    "evalue": "name 'table_index' is not defined",
                    "output_type": "error",
                    "traceback": [
                        "\u001b[0;31m---------------------------------------------------------------------------\u001b[0m",
                        "\u001b[0;31mNameError\u001b[0m                                 Traceback (most recent call last)",
                        "Cell \u001b[0;32mIn[12], line 10\u001b[0m\n\u001b[1;32m      8\u001b[0m \u001b[38;5;66;03m# Create a DataFrame\u001b[39;00m\n\u001b[1;32m      9\u001b[0m tesla_revenue \u001b[38;5;241m=\u001b[39m pd\u001b[38;5;241m.\u001b[39mDataFrame(columns \u001b[38;5;241m=\u001b[39m [\u001b[38;5;124m\"\u001b[39m\u001b[38;5;124mDate\u001b[39m\u001b[38;5;124m\"\u001b[39m, \u001b[38;5;124m\"\u001b[39m\u001b[38;5;124mRevenue\u001b[39m\u001b[38;5;124m\"\u001b[39m])\n\u001b[0;32m---> 10\u001b[0m \u001b[38;5;28;01mfor\u001b[39;00m row \u001b[38;5;129;01min\u001b[39;00m tables[\u001b[43mtable_index\u001b[49m]\u001b[38;5;241m.\u001b[39mtbody\u001b[38;5;241m.\u001b[39mfind_all(\u001b[38;5;124m\"\u001b[39m\u001b[38;5;124mtr\u001b[39m\u001b[38;5;124m\"\u001b[39m):\n\u001b[1;32m     11\u001b[0m     col \u001b[38;5;241m=\u001b[39m row\u001b[38;5;241m.\u001b[39mfind_all(\u001b[38;5;124m\"\u001b[39m\u001b[38;5;124mtd\u001b[39m\u001b[38;5;124m\"\u001b[39m)\n\u001b[1;32m     12\u001b[0m     \u001b[38;5;28;01mif\u001b[39;00m (col \u001b[38;5;241m!=\u001b[39m []):\n",
                        "\u001b[0;31mNameError\u001b[0m: name 'table_index' is not defined"
                    ]
                }
            ],
            "source": [
                "import pandas as pd\n",
                "\n",
                "for index, table in enumerate(tables):\n",
                "    if (\"Tesla Quarterly Revenue\" in str(table)):\n",
                "        table_index = index\n",
                "        break\n",
                "\n",
                "# Create a DataFrame\n",
                "tesla_revenue = pd.DataFrame(columns = [\"Date\", \"Revenue\"])\n",
                "for row in tables[table_index].tbody.find_all(\"tr\"):\n",
                "    col = row.find_all(\"td\")\n",
                "    if (col != []):\n",
                "        Date = col[0].text\n",
                "        Revenue = col[1].text.replace(\"$\", \"\").replace(\",\", \"\")\n",
                "        tesla_revenue = pd.concat([tesla_revenue, pd.DataFrame({\n",
                "            \"Date\": Date,\n",
                "            \"Revenue\": Revenue\n",
                "        }, index = [0])], ignore_index = True)\n",
                "\n",
                "tesla_revenue.head()"
            ]
        },
        {
            "cell_type": "markdown",
            "metadata": {},
            "source": [
                "## Paso 4: Procesar el marco de datos"
            ]
        },
        {
            "cell_type": "code",
            "execution_count": null,
            "metadata": {},
            "outputs": [
                {
                    "data": {
                        "text/html": [
                            "<div>\n",
                            "<style scoped>\n",
                            "    .dataframe tbody tr th:only-of-type {\n",
                            "        vertical-align: middle;\n",
                            "    }\n",
                            "\n",
                            "    .dataframe tbody tr th {\n",
                            "        vertical-align: top;\n",
                            "    }\n",
                            "\n",
                            "    .dataframe thead th {\n",
                            "        text-align: right;\n",
                            "    }\n",
                            "</style>\n",
                            "<table border=\"1\" class=\"dataframe\">\n",
                            "  <thead>\n",
                            "    <tr style=\"text-align: right;\">\n",
                            "      <th></th>\n",
                            "      <th>Date</th>\n",
                            "      <th>Revenue</th>\n",
                            "    </tr>\n",
                            "  </thead>\n",
                            "  <tbody>\n",
                            "    <tr>\n",
                            "      <th>0</th>\n",
                            "      <td>2023-06-30</td>\n",
                            "      <td>24927</td>\n",
                            "    </tr>\n",
                            "    <tr>\n",
                            "      <th>1</th>\n",
                            "      <td>2023-03-31</td>\n",
                            "      <td>23329</td>\n",
                            "    </tr>\n",
                            "    <tr>\n",
                            "      <th>2</th>\n",
                            "      <td>2022-12-31</td>\n",
                            "      <td>24318</td>\n",
                            "    </tr>\n",
                            "    <tr>\n",
                            "      <th>3</th>\n",
                            "      <td>2022-09-30</td>\n",
                            "      <td>21454</td>\n",
                            "    </tr>\n",
                            "    <tr>\n",
                            "      <th>4</th>\n",
                            "      <td>2022-06-30</td>\n",
                            "      <td>16934</td>\n",
                            "    </tr>\n",
                            "  </tbody>\n",
                            "</table>\n",
                            "</div>"
                        ],
                        "text/plain": [
                            "         Date Revenue\n",
                            "0  2023-06-30   24927\n",
                            "1  2023-03-31   23329\n",
                            "2  2022-12-31   24318\n",
                            "3  2022-09-30   21454\n",
                            "4  2022-06-30   16934"
                        ]
                    },
                    "execution_count": 6,
                    "metadata": {},
                    "output_type": "execute_result"
                }
            ],
            "source": [
                "tesla_revenue = tesla_revenue[tesla_revenue[\"Revenue\"] != \"\"]\n",
                "tesla_revenue.head()"
            ]
        },
        {
            "cell_type": "markdown",
            "metadata": {},
            "source": [
                "## Paso 5: almacenar los datos en sqlite"
            ]
        },
        {
            "cell_type": "code",
            "execution_count": null,
            "metadata": {},
            "outputs": [
                {
                    "data": {
                        "text/plain": [
                            "<sqlite3.Connection at 0x7f409cdaa3e0>"
                        ]
                    },
                    "execution_count": 7,
                    "metadata": {},
                    "output_type": "execute_result"
                }
            ],
            "source": [
                "import sqlite3\n",
                "\n",
                "connection = sqlite3.connect(\"Tesla.db\")\n",
                "connection"
            ]
        },
        {
            "cell_type": "code",
            "execution_count": null,
            "metadata": {},
            "outputs": [
                {
                    "data": {
                        "text/plain": [
                            "<sqlite3.Cursor at 0x7f407064eb40>"
                        ]
                    },
                    "execution_count": 8,
                    "metadata": {},
                    "output_type": "execute_result"
                }
            ],
            "source": [
                "cursor = connection.cursor()\n",
                "cursor.execute(\"\"\"CREATE TABLE revenue (Date, Revenue)\"\"\")"
            ]
        },
        {
            "cell_type": "code",
            "execution_count": null,
            "metadata": {},
            "outputs": [
                {
                    "data": {
                        "text/plain": [
                            "[('2023-06-30', '24927'),\n",
                            " ('2023-03-31', '23329'),\n",
                            " ('2022-12-31', '24318'),\n",
                            " ('2022-09-30', '21454'),\n",
                            " ('2022-06-30', '16934')]"
                        ]
                    },
                    "execution_count": 9,
                    "metadata": {},
                    "output_type": "execute_result"
                }
            ],
            "source": [
                "tesla_tuples = list(tesla_revenue.to_records(index = False))\n",
                "tesla_tuples[:5]"
            ]
        },
        {
            "cell_type": "code",
            "execution_count": null,
            "metadata": {},
            "outputs": [],
            "source": [
                "cursor.executemany(\"INSERT INTO revenue VALUES (?,?)\", tesla_tuples)\n",
                "connection.commit()"
            ]
        },
        {
            "cell_type": "code",
            "execution_count": null,
            "metadata": {},
            "outputs": [
                {
                    "name": "stdout",
                    "output_type": "stream",
                    "text": [
                        "('2023-06-30', '24927')\n",
                        "('2023-03-31', '23329')\n",
                        "('2022-12-31', '24318')\n",
                        "('2022-09-30', '21454')\n",
                        "('2022-06-30', '16934')\n",
                        "('2022-03-31', '18756')\n",
                        "('2021-12-31', '17719')\n",
                        "('2021-09-30', '13757')\n",
                        "('2021-06-30', '11958')\n",
                        "('2021-03-31', '10389')\n",
                        "('2020-12-31', '10744')\n",
                        "('2020-09-30', '8771')\n",
                        "('2020-06-30', '6036')\n",
                        "('2020-03-31', '5985')\n",
                        "('2019-12-31', '7384')\n",
                        "('2019-09-30', '6303')\n",
                        "('2019-06-30', '6350')\n",
                        "('2019-03-31', '4541')\n",
                        "('2018-12-31', '7226')\n",
                        "('2018-09-30', '6824')\n",
                        "('2018-06-30', '4002')\n",
                        "('2018-03-31', '3409')\n",
                        "('2017-12-31', '3288')\n",
                        "('2017-09-30', '2985')\n",
                        "('2017-06-30', '2790')\n",
                        "('2017-03-31', '2696')\n",
                        "('2016-12-31', '2285')\n",
                        "('2016-09-30', '2298')\n",
                        "('2016-06-30', '1270')\n",
                        "('2016-03-31', '1147')\n",
                        "('2015-12-31', '1214')\n",
                        "('2015-09-30', '937')\n",
                        "('2015-06-30', '955')\n",
                        "('2015-03-31', '940')\n",
                        "('2014-12-31', '957')\n",
                        "('2014-09-30', '852')\n",
                        "('2014-06-30', '769')\n",
                        "('2014-03-31', '621')\n",
                        "('2013-12-31', '615')\n",
                        "('2013-09-30', '431')\n",
                        "('2013-06-30', '405')\n",
                        "('2013-03-31', '562')\n",
                        "('2012-12-31', '306')\n",
                        "('2012-09-30', '50')\n",
                        "('2012-06-30', '27')\n",
                        "('2012-03-31', '30')\n",
                        "('2011-12-31', '39')\n",
                        "('2011-09-30', '58')\n",
                        "('2011-06-30', '58')\n",
                        "('2011-03-31', '49')\n",
                        "('2010-12-31', '36')\n",
                        "('2010-09-30', '31')\n",
                        "('2010-06-30', '28')\n",
                        "('2010-03-31', '21')\n",
                        "('2009-09-30', '46')\n",
                        "('2009-06-30', '27')\n"
                    ]
                }
            ],
            "source": [
                "# Check the data from the database\n",
                "for row in cursor.execute(\"SELECT * FROM revenue\"):\n",
                "    print(row)"
            ]
        },
        {
            "cell_type": "markdown",
            "metadata": {},
            "source": [
                "## Paso 6: Visualiza los datos"
            ]
        },
        {
            "cell_type": "markdown",
            "metadata": {},
            "source": [
                "### Visualización de series de tiempo"
            ]
        },
        {
            "cell_type": "code",
            "execution_count": null,
            "metadata": {},
            "outputs": [
                {
                    "data": {
                        "image/png": "[encoded data removed]",
                        "text/plain": [
                            "<Figure size 1000x500 with 1 Axes>"
                        ]
                    },
                    "metadata": {},
                    "output_type": "display_data"
                }
            ],
            "source": [
                "import matplotlib.pyplot as plt\n",
                "import seaborn as sns\n",
                "\n",
                "fig, axis = plt.subplots(figsize = (10, 5))\n",
                "\n",
                "tesla_revenue[\"Date\"] = pd.to_datetime(tesla_revenue[\"Date\"])\n",
                "tesla_revenue[\"Revenue\"] = tesla_revenue[\"Revenue\"].astype('int')\n",
                "sns.lineplot(data = tesla_revenue, x = \"Date\", y = \"Revenue\")\n",
                "\n",
                "plt.tight_layout()\n",
                "\n",
                "plt.show()"
            ]
        },
        {
            "cell_type": "markdown",
            "metadata": {},
            "source": [
                "### Beneficio bruto anual"
            ]
        },
        {
            "cell_type": "code",
            "execution_count": null,
            "metadata": {},
            "outputs": [
                {
                    "data": {
                        "image/png": "[encoded data removed]",
                        "text/plain": [
                            "<Figure size 1000x500 with 1 Axes>"
                        ]
                    },
                    "metadata": {},
                    "output_type": "display_data"
                }
            ],
            "source": [
                "fig, axis = plt.subplots(figsize = (10, 5))\n",
                "\n",
                "tesla_revenue[\"Date\"] = pd.to_datetime(tesla_revenue[\"Date\"])\n",
                "tesla_revenue_yearly = tesla_revenue.groupby(tesla_revenue[\"Date\"].dt.year).sum().reset_index()\n",
                "\n",
                "sns.barplot(data = tesla_revenue_yearly[tesla_revenue_yearly[\"Date\"] < 2023], x = \"Date\", y = \"Revenue\")\n",
                "\n",
                "plt.tight_layout()\n",
                "\n",
                "plt.show()"
            ]
        },
        {
            "cell_type": "markdown",
            "metadata": {},
            "source": [
                "### Beneficio bruto mensual"
            ]
        },
        {
            "cell_type": "code",
            "execution_count": null,
            "metadata": {},
            "outputs": [
                {
                    "data": {
                        "image/png": "[encoded data removed]",
                        "text/plain": [
                            "<Figure size 1000x500 with 1 Axes>"
                        ]
                    },
                    "metadata": {},
                    "output_type": "display_data"
                }
            ],
            "source": [
                "fig, axis = plt.subplots(figsize = (10, 5))\n",
                "\n",
                "tesla_revenue_monthly = tesla_revenue.groupby(tesla_revenue[\"Date\"].dt.month).sum().reset_index()\n",
                "\n",
                "sns.barplot(data = tesla_revenue_monthly, x = \"Date\", y = \"Revenue\")\n",
                "\n",
                "plt.tight_layout()\n",
                "\n",
                "plt.show()"
            ]
        }
    ],
    "metadata": {
        "kernelspec": {
            "display_name": "Python 3.8.13 64-bit ('3.8.13')",
            "language": "python",
            "name": "python3"
        },
        "language_info": {
            "codemirror_mode": {
                "name": "ipython",
                "version": 3
            },
            "file_extension": ".py",
            "mimetype": "text/x-python",
            "name": "python",
            "nbconvert_exporter": "python",
            "pygments_lexer": "ipython3",
            "version": "3.11.4"
        },
        "orig_nbformat": 4,
        "vscode": {
            "interpreter": {
                "hash": "110cc1dee26208153f2972f08a2ad52b6a56238dc66d48e87fb757ef2996db56"
            }
        }
    },
    "nbformat": 4,
    "nbformat_minor": 2
}
